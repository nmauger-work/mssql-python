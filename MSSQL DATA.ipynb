{
 "cells": [
  {
   "cell_type": "code",
   "execution_count": 1,
   "metadata": {
    "collapsed": false
   },
   "outputs": [
    {
     "name": "stdout",
     "output_type": "stream",
     "text": [
      "rows : 5000, columns : 9\n"
     ]
    }
   ],
   "source": [
    "import pandas as pd\n",
    "import pyodbc\n",
    "import matplotlib.pyplot as plt\n",
    "%matplotlib inline  \n",
    "import numpy as np\n",
    "from datetime import datetime\n",
    "\n",
    "\n",
    "df = pd.read_csv('data/data01.csv', index_col=0, parse_dates=True,encoding = \"ISO-8859-1\")\n",
    "\n",
    "rows, columns = df.shape\n",
    "print('rows : {}, columns : {}'.format(rows, columns))\n",
    "\n"
   ]
  },
  {
   "cell_type": "code",
   "execution_count": 2,
   "metadata": {
    "collapsed": false
   },
   "outputs": [
    {
     "data": {
      "text/plain": [
       "Index(['employee_id', 'last_name', 'E_MAIL', 'rfc_number', 'submit_date_ut',\n",
       "       'action_label_en', 'elapsed_time', 'delay',\n",
       "       'time_used_to_complete_action'],\n",
       "      dtype='object')"
      ]
     },
     "execution_count": 2,
     "metadata": {},
     "output_type": "execute_result"
    }
   ],
   "source": [
    "df.columns"
   ]
  },
  {
   "cell_type": "code",
   "execution_count": 3,
   "metadata": {
    "collapsed": false
   },
   "outputs": [
    {
     "data": {
      "text/html": [
       "<div>\n",
       "<table border=\"1\" class=\"dataframe\">\n",
       "  <thead>\n",
       "    <tr style=\"text-align: right;\">\n",
       "      <th></th>\n",
       "      <th>employee_id</th>\n",
       "      <th>last_name</th>\n",
       "      <th>E_MAIL</th>\n",
       "      <th>rfc_number</th>\n",
       "      <th>submit_date_ut</th>\n",
       "      <th>action_label_en</th>\n",
       "      <th>elapsed_time</th>\n",
       "      <th>delay</th>\n",
       "      <th>time_used_to_complete_action</th>\n",
       "    </tr>\n",
       "  </thead>\n",
       "  <tbody>\n",
       "    <tr>\n",
       "      <th>2</th>\n",
       "      <td>8592</td>\n",
       "      <td>Fran_vre_8592</td>\n",
       "      <td>E_MAIL_8592@company.com</td>\n",
       "      <td>S1611-1252</td>\n",
       "      <td>2016-11-25 17:30:07.930</td>\n",
       "      <td>Notification prise en compte demandeur</td>\n",
       "      <td>0.0</td>\n",
       "      <td>NaN</td>\n",
       "      <td>NaN</td>\n",
       "    </tr>\n",
       "    <tr>\n",
       "      <th>3</th>\n",
       "      <td>8592</td>\n",
       "      <td>Fran_vre_8592</td>\n",
       "      <td>E_MAIL_8592@company.com</td>\n",
       "      <td>S1611-1252</td>\n",
       "      <td>2016-11-25 17:30:07.930</td>\n",
       "      <td>Processing your request</td>\n",
       "      <td>NaN</td>\n",
       "      <td>NaN</td>\n",
       "      <td>NaN</td>\n",
       "    </tr>\n",
       "  </tbody>\n",
       "</table>\n",
       "</div>"
      ],
      "text/plain": [
       "   employee_id      last_name                   E_MAIL  rfc_number  \\\n",
       "2         8592  Fran_vre_8592  E_MAIL_8592@company.com  S1611-1252   \n",
       "3         8592  Fran_vre_8592  E_MAIL_8592@company.com  S1611-1252   \n",
       "\n",
       "            submit_date_ut                         action_label_en  \\\n",
       "2  2016-11-25 17:30:07.930  Notification prise en compte demandeur   \n",
       "3  2016-11-25 17:30:07.930                 Processing your request   \n",
       "\n",
       "   elapsed_time  delay  time_used_to_complete_action  \n",
       "2           0.0    NaN                           NaN  \n",
       "3           NaN    NaN                           NaN  "
      ]
     },
     "execution_count": 3,
     "metadata": {},
     "output_type": "execute_result"
    }
   ],
   "source": [
    "df[2:4]"
   ]
  },
  {
   "cell_type": "code",
   "execution_count": 4,
   "metadata": {
    "collapsed": false
   },
   "outputs": [
    {
     "data": {
      "text/plain": [
       "3    Fran_vre_8592\n",
       "4     Isab_ois_553\n",
       "Name: last_name, dtype: object"
      ]
     },
     "execution_count": 4,
     "metadata": {},
     "output_type": "execute_result"
    }
   ],
   "source": [
    "df.last_name[3:5]"
   ]
  },
  {
   "cell_type": "code",
   "execution_count": 5,
   "metadata": {
    "collapsed": false
   },
   "outputs": [
    {
     "data": {
      "text/html": [
       "<div>\n",
       "<table border=\"1\" class=\"dataframe\">\n",
       "  <thead>\n",
       "    <tr style=\"text-align: right;\">\n",
       "      <th></th>\n",
       "      <th>last_name</th>\n",
       "      <th>rfc_number</th>\n",
       "    </tr>\n",
       "  </thead>\n",
       "  <tbody>\n",
       "    <tr>\n",
       "      <th>3</th>\n",
       "      <td>Fran_vre_8592</td>\n",
       "      <td>S1611-1252</td>\n",
       "    </tr>\n",
       "    <tr>\n",
       "      <th>4</th>\n",
       "      <td>Isab_ois_553</td>\n",
       "      <td>S1611-1251</td>\n",
       "    </tr>\n",
       "  </tbody>\n",
       "</table>\n",
       "</div>"
      ],
      "text/plain": [
       "       last_name  rfc_number\n",
       "3  Fran_vre_8592  S1611-1252\n",
       "4   Isab_ois_553  S1611-1251"
      ]
     },
     "execution_count": 5,
     "metadata": {},
     "output_type": "execute_result"
    }
   ],
   "source": [
    "df[['last_name', 'rfc_number']][3:5]"
   ]
  },
  {
   "cell_type": "code",
   "execution_count": 6,
   "metadata": {
    "collapsed": false
   },
   "outputs": [
    {
     "name": "stdout",
     "output_type": "stream",
     "text": [
      "elapsed time min, max, average : 0.0, 10240.0, 53.43684992570579\n",
      "delay min, max, average : nan, nan, nan\n",
      "time used to solve request min, max, average : 0.0, 31.0, 4.434210526315789\n"
     ]
    }
   ],
   "source": [
    "print(\"elapsed time min, max, average : {}, {}, {}\".format(df.elapsed_time.min(), df.elapsed_time.max(), df.elapsed_time.mean()))\n",
    "print(\"delay min, max, average : {}, {}, {}\".format(df.delay.min(), df.delay.max(), df.delay.mean()))\n",
    "print(\"time used to solve request min, max, average : {}, {}, {}\".format(df.time_used_to_complete_action.min(), df.time_used_to_complete_action.max(), df.time_used_to_complete_action.mean()))\n"
   ]
  },
  {
   "cell_type": "code",
   "execution_count": 7,
   "metadata": {
    "collapsed": false
   },
   "outputs": [
    {
     "data": {
      "text/plain": [
       "<matplotlib.axes._subplots.AxesSubplot at 0x17ae1e1acf8>"
      ]
     },
     "execution_count": 7,
     "metadata": {},
     "output_type": "execute_result"
    },
    {
     "data": {
      "image/png": "[encoded data removed]",
      "text/plain": [
       "<matplotlib.figure.Figure at 0x17ae1e28b00>"
      ]
     },
     "metadata": {},
     "output_type": "display_data"
    }
   ],
   "source": [
    "ts = pd.Series(np.random.randn(1000), index=pd.date_range('1/1/2000', periods=1000))\n",
    "\n",
    "ts = ts.cumsum()\n",
    "\n",
    "ts.plot()"
   ]
  },
  {
   "cell_type": "code",
   "execution_count": 26,
   "metadata": {
    "collapsed": false
   },
   "outputs": [
    {
     "data": {
      "image/png": "[encoded data removed]",
      "text/plain": [
       "<matplotlib.figure.Figure at 0x17ae1ce4a20>"
      ]
     },
     "metadata": {},
     "output_type": "display_data"
    }
   ],
   "source": [
    "x = df.submit_date_ut.map(lambda x: datetime.strptime(str(x), '%Y-%m-%d %H:%M:%S.%f'))\n",
    "\n",
    "y = df.time_used_to_complete_action\n",
    "\n",
    "fig, ax = plt.subplots(figsize=(15, 5))\n",
    "ax.plot_date(x,y)\n",
    "\n",
    "plt.show()\n"
   ]
  },
  {
   "cell_type": "code",
   "execution_count": null,
   "metadata": {
    "collapsed": true
   },
   "outputs": [],
   "source": []
  },
  {
   "cell_type": "code",
   "execution_count": null,
   "metadata": {
    "collapsed": true
   },
   "outputs": [],
   "source": []
  }
 ],
 "metadata": {
  "kernelspec": {
   "display_name": "Python 3",
   "language": "python",
   "name": "python3"
  },
  "language_info": {
   "codemirror_mode": {
    "name": "ipython",
    "version": 3
   },
   "file_extension": ".py",
   "mimetype": "text/x-python",
   "name": "python",
   "nbconvert_exporter": "python",
   "pygments_lexer": "ipython3",
   "version": "3.5.2"
  }
 },
 "nbformat": 4,
 "nbformat_minor": 0
}
